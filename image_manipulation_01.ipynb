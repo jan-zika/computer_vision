{
  "nbformat": 4,
  "nbformat_minor": 0,
  "metadata": {
    "colab": {
      "provenance": [],
      "include_colab_link": true
    },
    "kernelspec": {
      "name": "python3",
      "display_name": "Python 3"
    },
    "language_info": {
      "name": "python"
    }
  },
  "cells": [
    {
      "cell_type": "markdown",
      "metadata": {
        "id": "view-in-github",
        "colab_type": "text"
      },
      "source": [
        "<a href=\"https://colab.research.google.com/github/yahnzika/computer_vision/blob/main/image_manipulation_01.ipynb\" target=\"_parent\"><img src=\"https://colab.research.google.com/assets/colab-badge.svg\" alt=\"Open In Colab\"/></a>"
      ]
    },
    {
      "cell_type": "markdown",
      "source": [
        "# OpenCV Practical Exercises\n",
        "\n",
        "This notebook completes the practical exercises from three OpenCV handouts:\n",
        "\n",
        "1. Image Annotations (02 opencv-annotating-images-lab-1-04.html)\n",
        "2. Image Manipulations (01 opencv-image-manipulation-lab-1_03.html)\n",
        "3. Arithmetic Operations (03 opencv-arithmetic-operations-lab-2-1.html)\n",
        "\n",
        "We'll use sample images downloaded from public sources (e.g., Wikimedia, NASA). Ensure you have internet access in Colab to download images.\n",
        "\n",
        "**Setup:** Install necessary packages if not already available."
      ],
      "metadata": {
        "id": "intro"
      }
    },
    {
      "cell_type": "code",
      "execution_count": null,
      "metadata": {
        "id": "setup"
      },
      "outputs": [],
      "source": [
        "!pip install opencv-python-headless matplotlib numpy"
      ]
    },
    {
      "cell_type": "markdown",
      "source": [
        "## Section 1: Image Annotations\n",
        "\n",
        "From the handout: Complete the Apollo 11 Annotation challenge.\n",
        "\n",
        "- Add text: \"Apollo 11 Saturn V Launch, July 16, 1969\" at the bottom.\n",
        "- Draw a magenta rectangle around the launch tower and rocket.\n",
        "\n",
        "Sample image: Apollo 11 launch from NASA (public domain).\n",
        "\n",
        "We'll download a similar image from a public URL."
      ],
      "metadata": {
        "id": "section1"
      }
    },
    {
      "cell_type": "code",
      "source": [
        "import cv2\n",
        "import numpy as np\n",
        "import matplotlib.pyplot as plt\n",
        "from urllib.request import urlopen\n",
        "\n",
        "# Download sample image (Apollo 11 launch from Wikimedia/NASA)\n",
        "url = \"https://upload.wikimedia.org/wikipedia/commons/9/98/Apollo_11_Launch2.jpg\"\n",
        "resp = urlopen(url)\n",
        "image_array = np.asarray(bytearray(resp.read()), dtype=\"uint8\")\n",
        "img = cv2.imdecode(image_array, cv2.IMREAD_COLOR)\n",
        "\n",
        "# Save locally for reference (optional)\n",
        "cv2.imwrite('Apollo-11-launch.jpg', img)\n",
        "\n",
        "# Challenge code\n",
        "annotated_img = img.copy()\n",
        "\n",
        "# Text properties\n",
        "text = 'Apollo 11 Saturn V Launch, July 16, 1969'\n",
        "font_face = cv2.FONT_HERSHEY_PLAIN\n",
        "font_scale = 1.0\n",
        "font_color = (0, 255, 0)  # Green\n",
        "font_thickness = 1\n",
        "\n",
        "# Add text at bottom center\n",
        "# Get text size to center it\n",
        "text_size = cv2.getTextSize(text, font_face, font_scale, font_thickness)[0]\n",
        "text_x = (img.shape[1] - text_size[0]) // 2  # Center x\n",
        "text_y = img.shape[0] - 20  # Near bottom\n",
        "annotated_img = cv2.putText(annotated_img, text, (text_x, text_y),\n",
        "                            font_face, font_scale, font_color,\n",
        "                            font_thickness, cv2.LINE_AA)\n",
        "\n",
        "# Draw rectangle around tower and rocket (adjust coordinates based on image)\n",
        "# Example coordinates: Experimented to fit (top-left to bottom-right)\n",
        "rect_color = (255, 0, 255)  # Magenta\n",
        "annotated_img = cv2.rectangle(annotated_img, (200, 100), (400, 600),\n",
        "                              rect_color, thickness=3, lineType=cv2.LINE_8)\n",
        "\n",
        "# Display the final result\n",
        "plt.figure(figsize=(12, 12))\n",
        "plt.imshow(annotated_img[:, :, ::-1])  # BGR to RGB\n",
        "plt.title('Annotated Apollo 11 Launch')\n",
        "plt.show()"
      ],
      "metadata": {
        "id": "code1"
      },
      "execution_count": null,
      "outputs": []
    },
    {
      "cell_type": "markdown",
      "source": [
        "**Commentary:** The rectangle coordinates (200,100) to (400,600) were chosen based on visual inspection of the image. Adjust as needed for precise fitting. The text is centered at the bottom for better visibility."
      ],
      "metadata": {
        "id": "comment1"
      }
    },
    {
      "cell_type": "markdown",
      "source": [
        "## Section 2: Image Manipulations\n",
        "\n",
        "From the handout: Complete the Image Processing Pipeline challenge.\n",
        "\n",
        "- Crop: Extract the region around the sailboat.\n",
        "- Resize: Scale the cropped region by a factor of 2.\n",
        "- Flip: Flip the result horizontally.\n",
        "- Display: Show the final result.\n",
        "\n",
        "Sample image: New Zealand boat (using a similar public image from Wikimedia)."
      ],
      "metadata": {
        "id": "section2"
      }
    },
    {
      "cell_type": "code",
      "source": [
        "# Download sample image (Sailboat in New Zealand waters from Wikimedia)\n",
        "url = \"https://upload.wikimedia.org/wikipedia/commons/4/4c/Sailboat_on_Lake_Pukaki.jpg\"\n",
        "resp = urlopen(url)\n",
        "image_array = np.asarray(bytearray(resp.read()), dtype=\"uint8\")\n",
        "img = cv2.imdecode(image_array, cv2.IMREAD_COLOR)\n",
        "\n",
        "# Save locally (optional)\n",
        "cv2.imwrite('New_Zealand_Boat.jpg', img)\n",
        "\n",
        "# 1. Crop the image (region around the sailboat - adjust based on image)\n",
        "cropped = img[100:500, 200:800]  # y_start:y_end, x_start:x_end (example coords)\n",
        "\n",
        "# 2. Resize by factor of 2\n",
        "resized = cv2.resize(cropped, None, fx=2, fy=2, interpolation=cv2.INTER_AREA)\n",
        "\n",
        "# 3. Flip horizontally\n",
        "flipped = cv2.flip(resized, 1)\n",
        "\n",
        "# 4. Display the result\n",
        "plt.figure(figsize=(5, 5))\n",
        "plt.imshow(flipped[:, :, ::-1])  # BGR to RGB\n",
        "plt.title('Processed Sailboat Image')\n",
        "plt.show()"
      ],
      "metadata": {
        "id": "code2"
      },
      "execution_count": null,
      "outputs": []
    },
    {
      "cell_type": "markdown",
      "source": [
        "**Commentary:** Crop coordinates [100:500, 200:800] focus on the central sailboat area. Resize doubles the size, and horizontal flip mirrors the image for augmentation."
      ],
      "metadata": {
        "id": "comment2"
      }
    },
    {
      "cell_type": "markdown",
      "source": [
        "## Section 3: Arithmetic Operations\n",
        "\n",
        "From the handout: Santorini Image Processing challenge.\n",
        "\n",
        "- Read 'Santorini.jpg'.\n",
        "- Create two higher contrast versions (×1.1 and ×1.2) WITHOUT handling overflow.\n",
        "- Create the same versions WITH overflow handling using np.clip().\n",
        "- Display both sets.\n",
        "\n",
        "Sample image: Santorini from Wikimedia."
      ],
      "metadata": {
        "id": "section3"
      }
    },
    {
      "cell_type": "code",
      "source": [
        "# Download sample image (Santorini from Wikimedia)\n",
        "url = \"https://upload.wikimedia.org/wikipedia/commons/8/8b/Santorini_Greece.jpg\"\n",
        "resp = urlopen(url)\n",
        "image_array = np.asarray(bytearray(resp.read()), dtype=\"uint8\")\n",
        "img = cv2.imdecode(image_array, cv2.IMREAD_COLOR)\n",
        "\n",
        "# Save locally (optional)\n",
        "cv2.imwrite('Santorini.jpg', img)\n",
        "\n",
        "# Create a matrix of ones (with data type float64)\n",
        "matrix_ones = np.ones(img.shape, dtype='float64')\n",
        "\n",
        "# Create higher contrast WITHOUT overflow handling\n",
        "img_higher1 = np.uint8(cv2.multiply(np.float64(img), matrix_ones, scale=1.1))\n",
        "img_higher2 = np.uint8(cv2.multiply(np.float64(img), matrix_ones, scale=1.2))\n",
        "\n",
        "# Display first row (with artifacts)\n",
        "plt.figure(figsize=(18, 5))\n",
        "plt.subplot(131); plt.imshow(img[:, :, ::-1]); plt.title('Original')\n",
        "plt.subplot(132); plt.imshow(img_higher1[:, :, ::-1]); plt.title('Higher (1.1x) - No Clip')\n",
        "plt.subplot(133); plt.imshow(img_higher2[:, :, ::-1]); plt.title('Higher (1.2x) - No Clip')\n",
        "plt.show()\n",
        "\n",
        "# Create higher contrast WITH overflow handling\n",
        "img_higher1 = np.uint8(np.clip(cv2.multiply(np.float64(img), matrix_ones, scale=1.1), 0, 255))\n",
        "img_higher2 = np.uint8(np.clip(cv2.multiply(np.float64(img), matrix_ones, scale=1.2), 0, 255))\n",
        "\n",
        "# Display second row (fixed)\n",
        "plt.figure(figsize=(18, 5))\n",
        "plt.subplot(131); plt.imshow(img[:, :, ::-1]); plt.title('Original')\n",
        "plt.subplot(132); plt.imshow(img_higher1[:, :, ::-1]); plt.title('Higher (1.1x) - With Clip')\n",
        "plt.subplot(133); plt.imshow(img_higher2[:, :, ::-1]); plt.title('Higher (1.2x) - With Clip')\n",
        "plt.show()"
      ],
      "metadata": {
        "id": "code3"
      },
      "execution_count": null,
      "outputs": []
    },
    {
      "cell_type": "markdown",
      "source": [
        "**Commentary:** Without clipping, overflow causes artifacts (e.g., dark spots in bright areas). With np.clip(), values are saturated at 255, preserving natural appearance."
      ],
      "metadata": {
        "id": "comment3"
      }
    }
  ]
}